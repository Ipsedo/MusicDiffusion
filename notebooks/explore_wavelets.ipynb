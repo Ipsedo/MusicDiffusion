{
 "cells": [
  {
   "cell_type": "code",
   "execution_count": null,
   "metadata": {
    "collapsed": true
   },
   "outputs": [],
   "source": [
    "import matplotlib.pyplot as plt\n",
    "import pywt\n",
    "import torchaudio as th_audio\n",
    "import numpy as np\n",
    "from math import sqrt, log\n",
    "import matplotlib.pyplot as plt\n",
    "from time import time"
   ]
  },
  {
   "cell_type": "code",
   "execution_count": null,
   "outputs": [],
   "source": [
    "signal, sr = th_audio.load(\"/home/samuel/Musique/Childish Gambino - Donald Glover Presents... {ALBUM}/05 - Beautiful.mp3\")\n",
    "signal = signal.mean(dim=0).numpy()[:256]"
   ],
   "metadata": {
    "collapsed": false
   }
  },
  {
   "cell_type": "code",
   "execution_count": null,
   "outputs": [],
   "source": [
    "signal.shape, sr"
   ],
   "metadata": {
    "collapsed": false
   }
  },
  {
   "cell_type": "code",
   "execution_count": null,
   "outputs": [],
   "source": [
    "t1 = time()\n",
    "\n",
    "wt = \"morl\"\n",
    "max_j = 32\n",
    "scales = np.array([2 ** j for j in range(max_j)])\n",
    "my_coefs, my_freqs = pywt.cwt(\n",
    "    data=signal, scales=scales, wavelet=wt, sampling_period=1. / sr, method=\"conv\"\n",
    ")\n",
    "\n",
    "t2 = time()"
   ],
   "metadata": {
    "collapsed": false,
    "pycharm": {
     "is_executing": true
    }
   }
  },
  {
   "cell_type": "code",
   "execution_count": null,
   "outputs": [],
   "source": [
    "print((t2 - t1) * 120 / 60, \"h\")"
   ],
   "metadata": {
    "collapsed": false
   }
  },
  {
   "cell_type": "code",
   "execution_count": null,
   "outputs": [],
   "source": [
    "my_coefs.shape, my_freqs.shape"
   ],
   "metadata": {
    "collapsed": false
   }
  },
  {
   "cell_type": "code",
   "execution_count": null,
   "outputs": [],
   "source": [
    "plt.matshow(my_coefs[:, :256])"
   ],
   "metadata": {
    "collapsed": false
   }
  },
  {
   "cell_type": "code",
   "execution_count": null,
   "outputs": [],
   "source": [
    "# https://github.com/PyWavelets/pywt/issues/328\n",
    "\n",
    "mwf = pywt.ContinuousWavelet(wt, my_coefs.dtype).wavefun()\n",
    "y_0 = mwf[0][np.argmin(np.abs(mwf[1]))]\n",
    "\n",
    "def w_delta(s, n, wf, freqs):\n",
    "    psi_hat_star = np.conjugate(np.fft.fft(wf[0]))\n",
    "    return np.sum([psi_hat_star[np.argmin(\n",
    "        np.abs(wf[0] - s * pywt.frequency2scale(wt, freqs[k]))\n",
    "        )] for k in range(n)]) / n\n",
    "\n",
    "def dj(s_arr):\n",
    "    return (log(s_arr[1]) - log(s_arr[0])) / log(2)\n",
    "\n",
    "kwargs = dict(\n",
    "    n=len(scales),\n",
    "    wf=mwf,\n",
    "    freqs=my_freqs\n",
    ")\n",
    "\n",
    "d_j = dj(scales)\n",
    "C_d = d_j / y_0 * np.sum([np.real(w_delta(s, **kwargs))/sqrt(s) for s in scales])\n",
    "\n",
    "r_sum = np.transpose(np.sum(np.transpose(my_coefs)/ scales ** 0.5, axis=-1))\n",
    "reconstructed = r_sum * (d_j / (C_d * y_0))\n",
    "\n",
    "# finally add the mean of the data back on ('reconstructed' is an anomaly time series)\n",
    "reconstructed += signal.mean()"
   ],
   "metadata": {
    "collapsed": false
   }
  }
 ],
 "metadata": {
  "kernelspec": {
   "display_name": "Python 3",
   "language": "python",
   "name": "python3"
  },
  "language_info": {
   "codemirror_mode": {
    "name": "ipython",
    "version": 2
   },
   "file_extension": ".py",
   "mimetype": "text/x-python",
   "name": "python",
   "nbconvert_exporter": "python",
   "pygments_lexer": "ipython2",
   "version": "2.7.6"
  }
 },
 "nbformat": 4,
 "nbformat_minor": 0
}
