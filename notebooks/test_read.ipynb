{
 "cells": [
  {
   "cell_type": "code",
   "execution_count": null,
   "metadata": {
    "collapsed": true
   },
   "outputs": [],
   "source": [
    "from torchvision.transforms import Compose, Pad\n",
    "import matplotlib.pyplot as plt\n",
    "import torch as th\n",
    "from torch.utils.data import DataLoader\n",
    "\n",
    "from music_diffusion_model.data import MNISTDataset, ChangeType, ChannelMinMaxNorm, RangeChange"
   ]
  },
  {
   "cell_type": "code",
   "execution_count": null,
   "outputs": [],
   "source": [
    "mnist_dataset = MNISTDataset()\n",
    "\n",
    "transform = Compose(\n",
    "            [\n",
    "                Pad(2, 0, \"constant\"),\n",
    "                ChangeType(th.float),\n",
    "                ChannelMinMaxNorm(),\n",
    "                RangeChange(-1.0, 1.0),\n",
    "            ]\n",
    "        )"
   ],
   "metadata": {
    "collapsed": false
   }
  },
  {
   "cell_type": "code",
   "execution_count": null,
   "outputs": [],
   "source": [
    "dataloader = DataLoader(mnist_dataset, batch_size=4)"
   ],
   "metadata": {
    "collapsed": false
   }
  },
  {
   "cell_type": "code",
   "execution_count": null,
   "outputs": [],
   "source": [
    "for x in dataloader:\n",
    "    plt.matshow(x[0, 0], cmap=\"Greys\")\n",
    "    plt.show()\n",
    "    break"
   ],
   "metadata": {
    "collapsed": false
   }
  },
  {
   "cell_type": "code",
   "execution_count": null,
   "outputs": [],
   "source": [],
   "metadata": {
    "collapsed": false
   }
  }
 ],
 "metadata": {
  "kernelspec": {
   "display_name": "Python 3",
   "language": "python",
   "name": "python3"
  },
  "language_info": {
   "codemirror_mode": {
    "name": "ipython",
    "version": 2
   },
   "file_extension": ".py",
   "mimetype": "text/x-python",
   "name": "python",
   "nbconvert_exporter": "python",
   "pygments_lexer": "ipython2",
   "version": "2.7.6"
  }
 },
 "nbformat": 4,
 "nbformat_minor": 0
}
