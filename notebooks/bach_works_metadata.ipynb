{
 "cells": [
  {
   "cell_type": "code",
   "execution_count": null,
   "id": "initial_id",
   "metadata": {
    "collapsed": true
   },
   "outputs": [],
   "source": [
    "from glob import glob\n",
    "import requests\n",
    "from bs4 import BeautifulSoup\n",
    "from os.path import join, basename\n",
    "import re\n",
    "import pandas as pd\n",
    "from typing import List, Optional\n",
    "from tqdm import tqdm"
   ]
  },
  {
   "cell_type": "code",
   "execution_count": null,
   "outputs": [],
   "source": [
    "html_dfs = pd.read_html(\"https://en.wikipedia.org/wiki/List_of_compositions_by_Johann_Sebastian_Bach\", flavor=\"bs4\")"
   ],
   "metadata": {
    "collapsed": false
   },
   "id": "fa0e3485aab952cd"
  },
  {
   "cell_type": "code",
   "execution_count": null,
   "outputs": [],
   "source": [
    "bach_works_df = html_dfs[5].copy()\n",
    "\n",
    "# remove unreferenced\n",
    "bach_works_df = bach_works_df[~bach_works_df[\"BWV\"].isna()]\n",
    "# remove variants\n",
    "bach_works_df = bach_works_df[~bach_works_df[\"BWV\"].str.contains(\"/\", regex=False)]\n",
    "# remove html table separations\n",
    "bach_works_df = bach_works_df[bach_works_df[\"BD\"].fillna(\"\").str.match(r\"^\\d+$\")]\n",
    "\n",
    "bach_works_df[\"BWV_without_version\"] = bach_works_df[\"BWV\"].str.extract(r\"^(\\d+)\")\n",
    "bach_works_df[\"version\"] = bach_works_df[\"BWV\"].str.extract(\"^\\d+\\.(\\d+)\").fillna(1).astype(int)\n",
    "\n",
    "bach_works_df = bach_works_df.loc[bach_works_df.groupby(\"BWV_without_version\")[\"version\"].idxmax()]"
   ],
   "metadata": {
    "collapsed": false
   },
   "id": "122a278d1faf335d"
  },
  {
   "cell_type": "code",
   "execution_count": null,
   "outputs": [],
   "source": [
    "bach_flac_path = \"/home/samuel/Téléchargements/Bach - Complete Works\"\n",
    "musics = glob(join(bach_flac_path, \"**\", '**', \"*.flac\"))"
   ],
   "metadata": {
    "collapsed": false
   },
   "id": "e7cd487944124ad5"
  },
  {
   "cell_type": "code",
   "execution_count": null,
   "outputs": [],
   "source": [
    "regex_music = re.compile(r\"^.* BWV (\\d+[a-z]?).*\\.flac$\")\n",
    "regex_volume = re.compile(r\".*/Vol (I+) .*\")"
   ],
   "metadata": {
    "collapsed": false
   },
   "id": "cd113216a933aa44"
  },
  {
   "cell_type": "code",
   "execution_count": null,
   "outputs": [],
   "source": [
    "music_bwv = {}\n",
    "for music in musics:\n",
    "    filename = basename(music)\n",
    "    if regex_music.match(filename):\n",
    "        bwv = regex_music.match(filename).group(1)\n",
    "        \n",
    "        music_bwv[music] = bwv"
   ],
   "metadata": {
    "collapsed": false
   },
   "id": "13bbccbd2eb60526"
  },
  {
   "cell_type": "code",
   "execution_count": null,
   "outputs": [],
   "source": [
    "bwv_set = set(bach_works_df[\"BWV_without_version\"])\n",
    "\n",
    "music_path_df = pd.DataFrame(\n",
    "    [[wav_path, bwv] for wav_path, bwv in music_bwv.items() if bwv in bwv_set],\n",
    "    columns=[\"wav_path\", \"bwv\"]\n",
    ")"
   ],
   "metadata": {
    "collapsed": false
   },
   "id": "50e6bc6bf3b0a2dd"
  },
  {
   "cell_type": "code",
   "execution_count": null,
   "outputs": [],
   "source": [
    "scoring_df = html_dfs[6].copy()\n",
    "\n",
    "voices_df = (\n",
    "    scoring_df\n",
    "    .loc[:1]\n",
    "    .transpose()\n",
    "    .reset_index()[[\"level_1\", 0]]\n",
    "    .rename({\"level_1\": \"code\", 0: \"scoring\"}, axis=1)\n",
    ")\n",
    "\n",
    "winds_battery_df = scoring_df.loc[2:3]\n",
    "winds_battery_df.columns = winds_battery_df.iloc[0]\n",
    "winds_battery_df = (\n",
    "    winds_battery_df\n",
    "    .reset_index()\n",
    "    .drop(\"index\", axis=1)\n",
    "    .drop(index=0)\n",
    "    .transpose()\n",
    "    .reset_index()\n",
    "    .rename({2: \"code\", 1: \"scoring\"}, axis=1)\n",
    ")\n",
    "\n",
    "strings_keyboard_df = scoring_df.loc[5:6]\n",
    "strings_keyboard_df.columns = strings_keyboard_df.iloc[0]\n",
    "strings_keyboard_df = (\n",
    "    strings_keyboard_df\n",
    "    .reset_index()\n",
    "    .drop(\"index\", axis=1)\n",
    "    .drop(index=0)\n",
    "    .transpose()\n",
    "    .reset_index()\n",
    "    .drop(index=0)\n",
    "    .rename({5: \"code\", 1: \"scoring\"}, axis=1)\n",
    ")\n",
    "\n",
    "scoring_legend_df = pd.concat([voices_df, winds_battery_df, strings_keyboard_df], axis=0).reset_index().drop(\"index\", axis=1)\n",
    "\n",
    "scoring_legend_dict = {row[\"code\"]: row[\"scoring\"] for _, row in scoring_legend_df.iterrows()}"
   ],
   "metadata": {
    "collapsed": false
   },
   "id": "563e8d0cb0d7929f"
  },
  {
   "cell_type": "code",
   "execution_count": null,
   "outputs": [],
   "source": [
    "regex_scoring_both = re.compile(r\"\")\n",
    "\n",
    "regex_voices = re.compile(r\"^((?:[satbSATBvV\\d?()]|(?:[vV]\\.[12]))+)(?: .+)?$\")\n",
    "regex_voices_2 = re.compile(r\"[satbSATBvV]|(?:[vV]\\.[12])\")\n",
    "\n",
    "regex_scoring = re.compile(r\"^(?:(?:[satbSATBvV?\\d()]|[vV]\\.[12])+ )?(.+)$\")\n",
    "regex_scoring_2 = re.compile(r\"(\\d+)\")\n",
    "regex_scoring_3 = re.compile(r\"([A-z]+)\")\n",
    "regex_scoring_4 = re.compile(r\"([1-9]*[A-z]+)\")\n",
    "\n",
    "remove_scoring = {\"SBBB\", \"Nho\", \"colla\", \"parte\", \"instr\", \"or\", \"mezzo\"}\n",
    "rename_scoring_dict = {\n",
    "    \"Harpsichord\": \"Hc\",\n",
    "    \"Vla\": \"Va\",\n",
    "    \"Vlp\": \"Vl\",\n",
    "    \"Tne\": \"Tbn\",\n",
    "    \"Keyboard\": \"Kb\",\n",
    "    \"Fag\": \"Bas\",\n",
    "    \"Cdc\": \"Hn\",\n",
    "    \"Organ\": \"Org\",\n",
    "    \"Gam\": \"Vdg\",\n",
    "}\n",
    "\n",
    "def _parse_scoring(s: str) -> List[str]:\n",
    "    \n",
    "    scoring = []\n",
    "    \n",
    "    matched_voices = regex_voices.match(s)\n",
    "    \n",
    "    has_matched_voices = False\n",
    "    if matched_voices:\n",
    "        for grp in regex_voices_2.findall(matched_voices.group(1)):\n",
    "            scoring.append(grp)\n",
    "            has_matched_voices = True\n",
    "        \n",
    "    matched_scoring = regex_scoring.match(s)\n",
    "    \n",
    "    if matched_scoring and not (len(regex_scoring_4.findall(s)) == 1 and has_matched_voices):\n",
    "        for grp in matched_scoring.group(1).split(\" \"):\n",
    "            number = regex_scoring_2.search(grp)\n",
    "            number = 1 if not number else int(number.group(1))\n",
    "            \n",
    "            found_sco = regex_scoring_3.search(grp)\n",
    "            if found_sco and found_sco.group(1) not in remove_scoring:\n",
    "                scoring.append(\n",
    "                    rename_scoring_dict[found_sco.group(1)]\n",
    "                    if found_sco.group(1) in rename_scoring_dict\n",
    "                    else found_sco.group(1)\n",
    "                )\n",
    "    \n",
    "    return scoring\n",
    "\n",
    "bach_works_df[\"formatted_scoring\"] = bach_works_df[\"Scoring\"].fillna(\"\").apply(_parse_scoring)"
   ],
   "metadata": {
    "collapsed": false
   },
   "id": "cf9e9b483891ff67"
  },
  {
   "cell_type": "code",
   "execution_count": null,
   "outputs": [],
   "source": [
    "bach_metadata_df = (\n",
    "    bach_works_df[[\"Name\", \"Key\", \"BWV_without_version\", \"formatted_scoring\", \"BD\"]]\n",
    "    .rename(columns={\"BWV_without_version\": \"bwv\", \"formatted_scoring\": \"scoring\", \"BD\": \"url\"})\n",
    ")\n",
    "\n",
    "metadata_url = \"https://www.bachdigital.de/receive/BachDigitalWork_work_\"\n",
    "bach_metadata_df[\"url\"] = metadata_url + bach_metadata_df[\"url\"].str.pad(9, fillchar=\"0\", side=\"left\") + \"?lang=en\"\n",
    "\n",
    "def _get_genre(url: str) -> Optional[str]:\n",
    "    page = BeautifulSoup(requests.get(url).content)\n",
    "    dl = page.find(\"dl\", {\"id\": \"generalData\"})\n",
    "    if dl:\n",
    "        dts = dl.find_all(\"dt\")\n",
    "        for dt in dts:\n",
    "            if dt.get_text().replace(\"\\n\", \"\") == \"Genre\":\n",
    "                return dt.find_next(\"dd\").get_text()\n",
    "    return None\n",
    "\n",
    "tqdm.pandas()\n",
    "\n",
    "bach_metadata_df[\"genre\"] = bach_metadata_df[\"url\"].progress_apply(_get_genre)\n",
    "bach_metadata_df = bach_metadata_df[~bach_metadata_df[\"genre\"].isna()]\n",
    "\n",
    "bach_metadata_df[\"Key\"] = bach_metadata_df[\"Key\"].str.replace(\"\\xa0\", \" \")"
   ],
   "metadata": {
    "collapsed": false
   },
   "id": "9aa5696e006818e"
  },
  {
   "cell_type": "code",
   "execution_count": null,
   "outputs": [],
   "source": [
    "final_df = music_path_df.merge(bach_metadata_df, on=[\"bwv\"], how=\"inner\")\n",
    "final_df = final_df.rename({\"Name\": \"name\", \"Key\": \"key\"}, axis=1)"
   ],
   "metadata": {
    "collapsed": false
   },
   "id": "ac7ebe05ce6ff799"
  },
  {
   "cell_type": "code",
   "execution_count": null,
   "outputs": [],
   "source": [
    "len(final_df), len(bach_metadata_df), len(music_path_df)"
   ],
   "metadata": {
    "collapsed": false
   },
   "id": "f4ecab0370dfbce3"
  },
  {
   "cell_type": "code",
   "execution_count": null,
   "outputs": [],
   "source": [
    "output_csv_path = join(bach_flac_path, \"metadata.csv\")\n",
    "\n",
    "final_df.to_csv(output_csv_path, sep=\";\", index=False)"
   ],
   "metadata": {
    "collapsed": false
   },
   "id": "e48d8dc4afc9a37a"
  },
  {
   "cell_type": "code",
   "execution_count": null,
   "outputs": [],
   "source": [
    "final_df = pd.read_csv(output_csv_path, sep=\";\")"
   ],
   "metadata": {
    "collapsed": false
   },
   "id": "da80c7979dc8bb3a"
  },
  {
   "cell_type": "code",
   "execution_count": null,
   "outputs": [],
   "source": [
    "final_df"
   ],
   "metadata": {
    "collapsed": false
   },
   "id": "105b530b2996a6b7"
  },
  {
   "cell_type": "code",
   "execution_count": null,
   "outputs": [],
   "source": [],
   "metadata": {
    "collapsed": false
   },
   "id": "3e9654e863cd74db"
  }
 ],
 "metadata": {
  "kernelspec": {
   "display_name": "Python 3",
   "language": "python",
   "name": "python3"
  },
  "language_info": {
   "codemirror_mode": {
    "name": "ipython",
    "version": 2
   },
   "file_extension": ".py",
   "mimetype": "text/x-python",
   "name": "python",
   "nbconvert_exporter": "python",
   "pygments_lexer": "ipython2",
   "version": "2.7.6"
  }
 },
 "nbformat": 4,
 "nbformat_minor": 5
}
