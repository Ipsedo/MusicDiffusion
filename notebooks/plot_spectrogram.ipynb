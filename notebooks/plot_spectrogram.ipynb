{
 "cells": [
  {
   "cell_type": "code",
   "execution_count": null,
   "id": "86b4f516",
   "metadata": {},
   "outputs": [],
   "source": [
    "import torch as th\n",
    "import matplotlib.pyplot as plt\n",
    "\n",
    "from music_diffusion.data import AudioDataset"
   ]
  },
  {
   "cell_type": "code",
   "execution_count": null,
   "id": "9aa8d5e0",
   "metadata": {},
   "outputs": [],
   "source": [
    "file = \"/home/samuel/PycharmProjects/MusicDiffusionModel/res/electronic_gems_16000Hz_dataset/magn_phase_4576.pt\"\n",
    "mp = th.load(file)"
   ]
  },
  {
   "cell_type": "code",
   "execution_count": null,
   "id": "3196537d",
   "metadata": {},
   "outputs": [],
   "source": [
    "mp.size()"
   ]
  },
  {
   "cell_type": "code",
   "execution_count": null,
   "id": "8956b2ab",
   "metadata": {},
   "outputs": [],
   "source": [
    "plt.matshow(mp[0], cmap=\"plasma\")"
   ]
  },
  {
   "cell_type": "code",
   "execution_count": null,
   "id": "9d8530df",
   "metadata": {},
   "outputs": [],
   "source": [
    "dataset = AudioDataset(\"/home/samuel/PycharmProjects/MusicDiffusionModel/res/electronic_gems_16000Hz_dataset/\")"
   ]
  },
  {
   "cell_type": "code",
   "execution_count": null,
   "id": "e8683d7b",
   "metadata": {},
   "outputs": [],
   "source": [
    "mp = dataset[0]"
   ]
  },
  {
   "cell_type": "code",
   "execution_count": null,
   "id": "5769c379",
   "metadata": {},
   "outputs": [],
   "source": [
    "plt.matshow(mp[0], cmap=\"plasma\")"
   ]
  },
  {
   "cell_type": "code",
   "execution_count": null,
   "id": "abae530e",
   "metadata": {},
   "outputs": [],
   "source": []
  }
 ],
 "metadata": {
  "kernelspec": {
   "display_name": "Python 3 (ipykernel)",
   "language": "python",
   "name": "python3"
  },
  "language_info": {
   "codemirror_mode": {
    "name": "ipython",
    "version": 3
   },
   "file_extension": ".py",
   "mimetype": "text/x-python",
   "name": "python",
   "nbconvert_exporter": "python",
   "pygments_lexer": "ipython3",
   "version": "3.11.3"
  }
 },
 "nbformat": 4,
 "nbformat_minor": 5
}
