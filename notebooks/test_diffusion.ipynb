{
 "cells": [
  {
   "cell_type": "code",
   "execution_count": null,
   "outputs": [],
   "source": [
    "import torch as th\n",
    "from torch.utils.data import DataLoader\n",
    "import gzip\n",
    "import pickle as pkl\n",
    "import matplotlib.pyplot as plt\n",
    "from music_diffusion_model.networks import Noiser, Denoiser\n",
    "from music_diffusion_model.data import MNISTDataset"
   ],
   "metadata": {
    "collapsed": false
   }
  },
  {
   "cell_type": "code",
   "execution_count": null,
   "outputs": [],
   "source": [
    "steps = 1000\n",
    "s = 1e-2  # +/- 15bits\n",
    "abscisse = th.arange(0, steps + 1)\n",
    "f_values = th.pow(\n",
    "            th.cos(\n",
    "                0.5\n",
    "                * th.pi\n",
    "                * (abscisse / steps  + s)\n",
    "                / (1 + s)\n",
    "            ),\n",
    "            2.0,\n",
    "        )\n",
    "\n",
    "alphas_cum_prod = f_values[1:] / f_values[0]\n",
    "alphas_cum_prod_prev = f_values[:-1] / f_values[0]\n",
    "\n",
    "\n",
    "betas = 1 - alphas_cum_prod / alphas_cum_prod_prev\n",
    "betas[betas > 0.999] = 0.999\n",
    "\n",
    "alphas = 1.0 - betas\n",
    "\n",
    "sqrt_alphas_cum_prod = th.sqrt(alphas_cum_prod)\n",
    "sqrt_one_minus_alphas_cum_prod = th.sqrt(1 - alphas_cum_prod)\n",
    "\n",
    "betas_tiddle = (\n",
    "    betas * (1.0 - th.cat([th.tensor([alphas_cum_prod[0]]), alphas_cum_prod_prev[1:]], dim=0)) / (1 - alphas_cum_prod)\n",
    ")"
   ],
   "metadata": {
    "collapsed": false
   }
  },
  {
   "cell_type": "code",
   "execution_count": null,
   "outputs": [],
   "source": [
    "plt.plot(abscisse[1:], alphas_cum_prod, color=\"r\")\n",
    "plt.plot(abscisse[1:], betas, color=\"g\")"
   ],
   "metadata": {
    "collapsed": false
   }
  },
  {
   "cell_type": "code",
   "execution_count": null,
   "outputs": [],
   "source": [
    "betas_values = th.linspace(1e-4, 2e-2, steps=steps + 1)\n",
    "alphas_values = 1 - betas_values\n",
    "alphas_cum_prod_values = alphas_values.cumprod(0)"
   ],
   "metadata": {
    "collapsed": false
   }
  },
  {
   "cell_type": "code",
   "execution_count": null,
   "outputs": [],
   "source": [
    "plt.plot(abscisse, alphas_cum_prod_values, color=\"r\")\n",
    "plt.plot(abscisse, betas_values, color=\"g\")"
   ],
   "metadata": {
    "collapsed": false
   }
  },
  {
   "cell_type": "code",
   "execution_count": null,
   "outputs": [],
   "source": [
    "betas_values = th.pow(abscisse / steps, 2.)\n",
    "alphas_values = 1 - betas_values\n",
    "alphas_cum_prod_values = alphas_values.cumprod(0)"
   ],
   "metadata": {
    "collapsed": false
   }
  },
  {
   "cell_type": "code",
   "execution_count": null,
   "outputs": [],
   "source": [
    "plt.plot(abscisse, alphas_cum_prod_values, color=\"r\")\n",
    "plt.plot(abscisse, betas_values, color=\"g\")"
   ],
   "metadata": {
    "collapsed": false
   }
  },
  {
   "cell_type": "code",
   "execution_count": null,
   "outputs": [],
   "source": [
    "betas_values = 2 ** (abscisse / steps) - 1\n",
    "alphas_values = 1 - betas_values\n",
    "alphas_cum_prod_values = alphas_values.cumprod(0)"
   ],
   "metadata": {
    "collapsed": false
   }
  },
  {
   "cell_type": "code",
   "execution_count": null,
   "outputs": [],
   "source": [
    "plt.plot(abscisse, alphas_cum_prod_values, color=\"r\")\n",
    "plt.plot(abscisse, betas_values, color=\"g\")"
   ],
   "metadata": {
    "collapsed": false
   }
  },
  {
   "cell_type": "code",
   "execution_count": null,
   "outputs": [],
   "source": [
    "betas_values = th.pow(abscisse / steps, 3)\n",
    "alphas_values = 1 - betas_values\n",
    "alphas_cum_prod_values = alphas_values.cumprod(0)"
   ],
   "metadata": {
    "collapsed": false
   }
  },
  {
   "cell_type": "code",
   "execution_count": null,
   "outputs": [],
   "source": [
    "plt.plot(abscisse, alphas_cum_prod_values, color=\"r\")\n",
    "plt.plot(abscisse, betas_values, color=\"g\")"
   ],
   "metadata": {
    "collapsed": false
   }
  },
  {
   "cell_type": "code",
   "execution_count": null,
   "outputs": [],
   "source": [
    "betas_values = -th.log(1 / (abscisse / steps + 1)) / th.log(th.tensor(1e4))\n",
    "alphas_values = 1 - betas_values\n",
    "alphas_cum_prod_values = alphas_values.cumprod(0)"
   ],
   "metadata": {
    "collapsed": false
   }
  },
  {
   "cell_type": "code",
   "execution_count": null,
   "outputs": [],
   "source": [
    "plt.plot(abscisse, alphas_cum_prod_values, color=\"r\")\n",
    "plt.plot(abscisse, betas_values, color=\"g\")"
   ],
   "metadata": {
    "collapsed": false
   }
  },
  {
   "cell_type": "code",
   "execution_count": null,
   "outputs": [],
   "source": [
    "betas_values = th.pow(abscisse / steps, 2) * 1e-2 + 1e-4\n",
    "alphas_values = 1 - betas_values\n",
    "alphas_cum_prod_values = alphas_values.cumprod(0)"
   ],
   "metadata": {
    "collapsed": false
   }
  },
  {
   "cell_type": "code",
   "execution_count": null,
   "outputs": [],
   "source": [
    "plt.plot(abscisse, alphas_cum_prod_values, color=\"r\")\n",
    "plt.plot(abscisse, betas_values, color=\"g\")"
   ],
   "metadata": {
    "collapsed": false
   }
  },
  {
   "cell_type": "code",
   "execution_count": null,
   "outputs": [],
   "source": [
    "betas_values = th.exp(2e-2 * abscisse / steps) - 1.\n",
    "alphas_values = 1 - betas_values\n",
    "alphas_cum_prod_values = alphas_values.cumprod(0)"
   ],
   "metadata": {
    "collapsed": false
   }
  },
  {
   "cell_type": "code",
   "execution_count": null,
   "outputs": [],
   "source": [
    "plt.plot(abscisse, alphas_cum_prod_values, color=\"r\")\n",
    "plt.plot(abscisse, betas_values, color=\"g\")"
   ],
   "metadata": {
    "collapsed": false
   }
  },
  {
   "cell_type": "code",
   "execution_count": null,
   "outputs": [],
   "source": [
    "plt.plot()"
   ],
   "metadata": {
    "collapsed": false
   }
  },
  {
   "cell_type": "markdown",
   "source": [
    "# Models"
   ],
   "metadata": {
    "collapsed": false
   }
  },
  {
   "cell_type": "code",
   "execution_count": null,
   "outputs": [],
   "source": [
    "beta_1 = 1e-4\n",
    "beta_T = 2e-2"
   ],
   "metadata": {
    "collapsed": false
   }
  },
  {
   "cell_type": "code",
   "execution_count": null,
   "outputs": [],
   "source": [
    "betas = th.linspace(beta_1, beta_T, steps=250)"
   ],
   "metadata": {
    "collapsed": false
   }
  },
  {
   "cell_type": "code",
   "execution_count": null,
   "outputs": [],
   "source": [
    "alphas = 1 - betas\n",
    "alphas_cum_prod = th.cumprod(alphas, dim=0)\n",
    "sqrt_alphas_cum_prod = th.sqrt(alphas_cum_prod)\n",
    "sqrt_minus_one_alphas_cum_prod = th.sqrt(1 - alphas_cum_prod)"
   ],
   "metadata": {
    "collapsed": false
   }
  },
  {
   "cell_type": "code",
   "execution_count": null,
   "outputs": [],
   "source": [
    "mnist_dataset = MNISTDataset()\n",
    "dataloader = DataLoader(mnist_dataset, batch_size=4)"
   ],
   "metadata": {
    "collapsed": false
   }
  },
  {
   "cell_type": "code",
   "execution_count": null,
   "outputs": [],
   "source": [
    "for x in dataloader:\n",
    "    print(x.size())\n",
    "    break"
   ],
   "metadata": {
    "collapsed": false
   }
  },
  {
   "cell_type": "code",
   "execution_count": null,
   "outputs": [],
   "source": [
    "x_0 = mnist_dataset[0][0].to(th.float)"
   ],
   "metadata": {
    "collapsed": false
   }
  },
  {
   "cell_type": "code",
   "execution_count": null,
   "outputs": [],
   "source": [
    "t = 2"
   ],
   "metadata": {
    "collapsed": false
   }
  },
  {
   "cell_type": "code",
   "execution_count": null,
   "outputs": [],
   "source": [
    "noise = th.randn_like(x_0)"
   ],
   "metadata": {
    "collapsed": false
   }
  },
  {
   "cell_type": "code",
   "execution_count": null,
   "outputs": [],
   "source": [
    "x_t = sqrt_alphas_cum_prod[t] * x_0 + sqrt_minus_one_alphas_cum_prod[t] * noise"
   ],
   "metadata": {
    "collapsed": false
   }
  },
  {
   "cell_type": "code",
   "execution_count": null,
   "outputs": [],
   "source": [
    "plt.matshow(x_0, cmap=\"Greys\")"
   ],
   "metadata": {
    "collapsed": false
   }
  },
  {
   "cell_type": "code",
   "execution_count": null,
   "outputs": [],
   "source": [
    "plt.matshow(x_t)"
   ],
   "metadata": {
    "collapsed": false
   }
  },
  {
   "cell_type": "code",
   "execution_count": null,
   "outputs": [],
   "source": [
    "steps = 1024"
   ],
   "metadata": {
    "collapsed": false
   }
  },
  {
   "cell_type": "code",
   "execution_count": null,
   "outputs": [],
   "source": [
    "n = Noiser(steps, 1e-4, 0.2)"
   ],
   "metadata": {
    "collapsed": false
   }
  },
  {
   "cell_type": "code",
   "execution_count": null,
   "outputs": [],
   "source": [
    "o, _ = n(x_0[None, None, :, :], th.tensor([[t]]))"
   ],
   "metadata": {
    "collapsed": false
   }
  },
  {
   "cell_type": "code",
   "execution_count": null,
   "outputs": [],
   "source": [
    "o.size()"
   ],
   "metadata": {
    "collapsed": false
   }
  },
  {
   "cell_type": "code",
   "execution_count": null,
   "outputs": [],
   "source": [
    "plt.matshow(o[0, 0, 0])"
   ],
   "metadata": {
    "collapsed": false
   }
  },
  {
   "cell_type": "code",
   "execution_count": null,
   "outputs": [],
   "source": [
    "d = Denoiser(1, steps, 8, 1e-4, 0.2, [(16, 32)], [(32, 16)])"
   ],
   "metadata": {
    "collapsed": false
   }
  },
  {
   "cell_type": "code",
   "execution_count": null,
   "outputs": [],
   "source": [
    "x_0_d = d(o, th.tensor([[t]]))"
   ],
   "metadata": {
    "collapsed": false
   }
  },
  {
   "cell_type": "code",
   "execution_count": null,
   "outputs": [],
   "source": [
    "x_0_d.size()"
   ],
   "metadata": {
    "collapsed": false
   }
  },
  {
   "cell_type": "code",
   "execution_count": null,
   "outputs": [],
   "source": [
    "plt.matshow(x_0_d[0, 0, 0].detach(), cmap=\"Greys\")"
   ],
   "metadata": {
    "collapsed": false
   }
  },
  {
   "cell_type": "code",
   "execution_count": null,
   "outputs": [],
   "source": [
    "o = d.sample(th.randn(1, 1, 32, 32))"
   ],
   "metadata": {
    "collapsed": false
   }
  },
  {
   "cell_type": "code",
   "execution_count": null,
   "outputs": [],
   "source": [
    "plt.matshow(o[0, 0].detach(), cmap=\"Greys\")"
   ],
   "metadata": {
    "collapsed": false
   }
  },
  {
   "cell_type": "code",
   "execution_count": null,
   "outputs": [],
   "source": [
    "print(d)"
   ],
   "metadata": {
    "collapsed": false
   }
  },
  {
   "cell_type": "code",
   "execution_count": null,
   "outputs": [],
   "source": [],
   "metadata": {
    "collapsed": false
   }
  }
 ],
 "metadata": {
  "kernelspec": {
   "display_name": "Python 3",
   "language": "python",
   "name": "python3"
  },
  "language_info": {
   "codemirror_mode": {
    "name": "ipython",
    "version": 2
   },
   "file_extension": ".py",
   "mimetype": "text/x-python",
   "name": "python",
   "nbconvert_exporter": "python",
   "pygments_lexer": "ipython2",
   "version": "2.7.6"
  }
 },
 "nbformat": 4,
 "nbformat_minor": 0
}
