{
 "cells": [
  {
   "cell_type": "code",
   "execution_count": null,
   "metadata": {},
   "outputs": [],
   "source": [
    "import torch as th\n",
    "import matplotlib.pyplot as plt\n",
    "\n",
    "from music_diffusion.networks import Denoiser\n",
    "from music_diffusion.data import magnitude_phase_to_wav"
   ]
  },
  {
   "cell_type": "code",
   "execution_count": null,
   "metadata": {
    "scrolled": false
   },
   "outputs": [],
   "source": [
    "d = Denoiser(\n",
    "    2, 4096, 48, 2.5e-5, 5e-3, [(16,32),(32,48),(48,64),(64,80)], 16\n",
    ")\n",
    "ema_prefix = \"ema_model.\"\n",
    "state_dict = {\n",
    "            k[len(ema_prefix) :]: p\n",
    "            for k, p in th.load(\"/media/samuel/M2_Sam/train_diffusion_bach-stride128-16kHz_ema-hybrid_5/denoiser_ema_168.pt\").items()\n",
    "            if k.startswith(ema_prefix)\n",
    "        }\n",
    "\n",
    "d.load_state_dict(state_dict)\n",
    "d.cuda()\n",
    "d.eval()"
   ]
  },
  {
   "cell_type": "code",
   "execution_count": null,
   "metadata": {},
   "outputs": [],
   "source": [
    "d.count_parameters()"
   ]
  },
  {
   "cell_type": "code",
   "execution_count": null,
   "metadata": {},
   "outputs": [],
   "source": [
    "x_t = th.randn(5, 2, 512, 512, device=\"cuda\")"
   ]
  },
  {
   "cell_type": "code",
   "execution_count": null,
   "metadata": {},
   "outputs": [],
   "source": [
    "with th.no_grad():\n",
    "    x_0 = d.sample(x_t, verbose=True)"
   ]
  },
  {
   "cell_type": "code",
   "execution_count": null,
   "metadata": {},
   "outputs": [],
   "source": [
    "x_0.size()"
   ]
  },
  {
   "cell_type": "code",
   "execution_count": null,
   "metadata": {},
   "outputs": [],
   "source": [
    "for i in range(x_0.size(0)):\n",
    "    print(x_0[i, 0].min(), x_0[i, 0].max(), x_0[i, 0].mean())"
   ]
  },
  {
   "cell_type": "code",
   "execution_count": null,
   "metadata": {},
   "outputs": [],
   "source": [
    "plt.matshow(x_0[0, 0].cpu().detach(), cmap=\"plasma\")"
   ]
  },
  {
   "cell_type": "code",
   "execution_count": null,
   "metadata": {},
   "outputs": [],
   "source": [
    "x_0 = (x_0 - x_0.min()) / (x_0.max() - x_0.min())\n",
    "magnitude_phase_to_wav(x_0[0, None].cpu(), \"out_super_bach.wav\", 16000, 1024, 128)"
   ]
  },
  {
   "cell_type": "code",
   "execution_count": null,
   "metadata": {},
   "outputs": [],
   "source": []
  }
 ],
 "metadata": {
  "kernelspec": {
   "display_name": "Python 3 (ipykernel)",
   "language": "python",
   "name": "python3"
  },
  "language_info": {
   "codemirror_mode": {
    "name": "ipython",
    "version": 3
   },
   "file_extension": ".py",
   "mimetype": "text/x-python",
   "name": "python",
   "nbconvert_exporter": "python",
   "pygments_lexer": "ipython3",
   "version": "3.11.3"
  }
 },
 "nbformat": 4,
 "nbformat_minor": 1
}
