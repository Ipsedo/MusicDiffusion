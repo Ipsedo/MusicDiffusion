{
 "cells": [
  {
   "cell_type": "code",
   "execution_count": null,
   "metadata": {
    "collapsed": true
   },
   "outputs": [],
   "source": [
    "from pytube import YouTube\n",
    "import scrapetube\n",
    "from tqdm import tqdm\n",
    "import subprocess\n",
    "from os.path import basename, join, splitext\n",
    "from os import remove"
   ]
  },
  {
   "cell_type": "code",
   "execution_count": null,
   "outputs": [],
   "source": [
    "channel_id = \"youtube_channel_id\"\n",
    "videos = scrapetube.get_channel(channel_id)"
   ],
   "metadata": {
    "collapsed": false
   }
  },
  {
   "cell_type": "code",
   "execution_count": null,
   "outputs": [],
   "source": [
    "out_folder = \"/path/to/out_folder\""
   ],
   "metadata": {
    "collapsed": false
   }
  },
  {
   "cell_type": "code",
   "execution_count": null,
   "outputs": [],
   "source": [
    "failed = 0\n",
    "done = 0\n",
    "\n",
    "tqdm_bar = tqdm(videos)\n",
    "for video in tqdm_bar:\n",
    "    try:\n",
    "        out_file = (\n",
    "            YouTube(f\"https://www.youtube.com/watch?v={video['videoId']}\")\n",
    "            .streams\n",
    "            .filter(only_audio=True)\n",
    "            .first()\n",
    "            .download(out_folder)\n",
    "        )\n",
    "\n",
    "        subprocess.run(\n",
    "            f\"ffmpeg -loglevel quiet -i \\\"{out_file}\\\" -ar 16000 \\\"{join(out_folder, splitext(basename(out_file))[0] + '.mp3')}\\\"\",\n",
    "            shell=True,\n",
    "            stdout=subprocess.DEVNULL,\n",
    "            stderr=subprocess.STDOUT,\n",
    "        )\n",
    "\n",
    "        remove(out_file)\n",
    "\n",
    "        done += 1\n",
    "    except Exception as e:\n",
    "        failed += 1\n",
    "        print(e)\n",
    "\n",
    "    tqdm_bar.set_description(f\"done {done}, failed {failed}\")"
   ],
   "metadata": {
    "collapsed": false
   }
  },
  {
   "cell_type": "code",
   "execution_count": null,
   "outputs": [],
   "source": [],
   "metadata": {
    "collapsed": false
   }
  }
 ],
 "metadata": {
  "kernelspec": {
   "display_name": "Python 3",
   "language": "python",
   "name": "python3"
  },
  "language_info": {
   "codemirror_mode": {
    "name": "ipython",
    "version": 2
   },
   "file_extension": ".py",
   "mimetype": "text/x-python",
   "name": "python",
   "nbconvert_exporter": "python",
   "pygments_lexer": "ipython2",
   "version": "2.7.6"
  }
 },
 "nbformat": 4,
 "nbformat_minor": 0
}
