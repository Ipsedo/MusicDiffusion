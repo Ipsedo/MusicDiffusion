{
 "cells": [
  {
   "cell_type": "code",
   "execution_count": null,
   "outputs": [],
   "source": [
    "import torch as th\n",
    "from music_diffusion.data import constants, wav_to_stft, stft_to_magnitude_phase\n",
    "from torch.nn import functional as th_f"
   ],
   "metadata": {
    "collapsed": false
   }
  },
  {
   "cell_type": "code",
   "execution_count": null,
   "outputs": [],
   "source": [
    "_MEL_BREAK_FREQUENCY_HERTZ = 700.0\n",
    "_MEL_HIGH_FREQUENCY_Q = 1127.0\n",
    "\n",
    "\n",
    "def mel_to_hertz(mel_values: th.Tensor) -> th.Tensor:\n",
    "    return _MEL_BREAK_FREQUENCY_HERTZ * (\n",
    "        th.exp(mel_values / _MEL_HIGH_FREQUENCY_Q) - 1.0\n",
    "    )\n",
    "\n",
    "\n",
    "def hertz_to_mel(frequencies_hertz: th.Tensor) -> th.Tensor:\n",
    "    return _MEL_HIGH_FREQUENCY_Q * th.log(\n",
    "        1.0 + (frequencies_hertz / _MEL_BREAK_FREQUENCY_HERTZ)\n",
    "    )\n",
    "\n",
    "\n",
    "def linear_to_mel_weight_matrix(\n",
    "    num_mel_bins: int = constants.N_FFT // 2,\n",
    "    num_spectrogram_bins: int = constants.N_FFT // 2,\n",
    "    sample_rate: int = constants.SAMPLE_RATE,\n",
    "    lower_edge_hertz: float = 0.,\n",
    "    upper_edge_hertz: float = constants.SAMPLE_RATE // 2,\n",
    ") -> th.Tensor:\n",
    "\n",
    "    # HTK excludes the spectrogram DC bin.\n",
    "    bands_to_zero = 1\n",
    "    nyquist_hertz = sample_rate / 2.0\n",
    "    linear_frequencies = th.linspace(0.0, nyquist_hertz, num_spectrogram_bins)[\n",
    "        bands_to_zero:, None\n",
    "    ]\n",
    "    # spectrogram_bins_mel = hertz_to_mel(linear_frequencies)\n",
    "\n",
    "    # Compute num_mel_bins triples of (lower_edge, center, upper_edge). The\n",
    "    # center of each band is the lower and upper edge of the adjacent bands.\n",
    "    # Accordingly, we divide [lower_edge_hertz, upper_edge_hertz] into\n",
    "    # num_mel_bins + 2 pieces.\n",
    "    band_edges_mel = th.linspace(\n",
    "        hertz_to_mel(th.tensor(lower_edge_hertz)).item(),\n",
    "        hertz_to_mel(th.tensor(upper_edge_hertz)).item(),\n",
    "        num_mel_bins + 2,\n",
    "    )\n",
    "\n",
    "    lower_edge_mel = band_edges_mel[0:-2]\n",
    "    center_mel = band_edges_mel[1:-1]\n",
    "    upper_edge_mel = band_edges_mel[2:]\n",
    "\n",
    "    freq_res = nyquist_hertz / float(num_spectrogram_bins)\n",
    "    freq_th = 1.5 * freq_res\n",
    "    for i in range(0, num_mel_bins):\n",
    "        center_hz = mel_to_hertz(center_mel[i])\n",
    "        lower_hz = mel_to_hertz(lower_edge_mel[i])\n",
    "        upper_hz = mel_to_hertz(upper_edge_mel[i])\n",
    "        if upper_hz - lower_hz < freq_th:\n",
    "            rhs = 0.5 * freq_th / (center_hz + _MEL_BREAK_FREQUENCY_HERTZ)\n",
    "            dm = _MEL_HIGH_FREQUENCY_Q * th.log(rhs + th.sqrt(1.0 + rhs**2))\n",
    "            lower_edge_mel[i] = center_mel[i] - dm\n",
    "            upper_edge_mel[i] = center_mel[i] + dm\n",
    "\n",
    "    lower_edge_hz = mel_to_hertz(lower_edge_mel)[None, :]\n",
    "    center_hz = mel_to_hertz(center_mel)[None, :]\n",
    "    upper_edge_hz = mel_to_hertz(upper_edge_mel)[None, :]\n",
    "\n",
    "    # Calculate lower and upper slopes for every spectrogram bin.\n",
    "    # Line segments are linear in the mel domain, not Hertz.\n",
    "    lower_slopes = (linear_frequencies - lower_edge_hz) / (\n",
    "        center_hz - lower_edge_hz\n",
    "    )\n",
    "    upper_slopes = (upper_edge_hz - linear_frequencies) / (\n",
    "        upper_edge_hz - center_hz\n",
    "    )\n",
    "\n",
    "    # Intersect the line segments with each other and zero.\n",
    "    mel_weights_matrix = th.maximum(\n",
    "        th.tensor(0.0), th.minimum(lower_slopes, upper_slopes)\n",
    "    )\n",
    "\n",
    "    # Re-add the zeroed lower bins we sliced out above.\n",
    "    # [freq, mel]\n",
    "    mel_weights_matrix = th_f.pad(\n",
    "        mel_weights_matrix, [0, 0, bands_to_zero, 0], \"constant\"\n",
    "    )\n",
    "    return mel_weights_matrix"
   ],
   "metadata": {
    "collapsed": false
   }
  },
  {
   "cell_type": "code",
   "execution_count": null,
   "outputs": [],
   "source": [
    "mat = linear_to_mel_weight_matrix(513, 513)"
   ],
   "metadata": {
    "collapsed": false
   }
  },
  {
   "cell_type": "code",
   "execution_count": null,
   "outputs": [],
   "source": [],
   "metadata": {
    "collapsed": false
   }
  },
  {
   "cell_type": "code",
   "execution_count": null,
   "outputs": [],
   "source": [
    "wav_p = \"/media/samuel/M2_Sam/mozart_all_musics_16000Hz/01 - 6 German Dances, K509 - I. C Major - II. G Major - III. B Flat Major - IV. D Major - V. F Major - VI. F Major.flac\"\n",
    "\n",
    "stft = wav_to_stft(wav_p)\n"
   ],
   "metadata": {
    "collapsed": false
   }
  },
  {
   "cell_type": "code",
   "execution_count": null,
   "outputs": [],
   "source": [
    "magn = th.abs(stft)\n",
    "phase = th.angle(stft)"
   ],
   "metadata": {
    "collapsed": false
   }
  },
  {
   "cell_type": "code",
   "execution_count": null,
   "outputs": [],
   "source": [
    "magn.size(), magn.max(), magn.min()"
   ],
   "metadata": {
    "collapsed": false
   }
  },
  {
   "cell_type": "code",
   "execution_count": null,
   "outputs": [],
   "source": [
    "magn = (magn - magn.min()) / (magn.max() - magn.min())\n",
    "\n",
    "print(magn.size(), magn.min(), magn.max())"
   ],
   "metadata": {
    "collapsed": false
   }
  },
  {
   "cell_type": "code",
   "execution_count": null,
   "outputs": [],
   "source": [
    "mat.size()"
   ],
   "metadata": {
    "collapsed": false
   }
  },
  {
   "cell_type": "code",
   "execution_count": null,
   "outputs": [],
   "source": [
    "magn_u = magn.T @ mat\n",
    "magn_u = magn_u.T"
   ],
   "metadata": {
    "collapsed": false
   }
  },
  {
   "cell_type": "code",
   "execution_count": null,
   "outputs": [],
   "source": [
    "magn_u.size(), magn_u.min(), magn_u.max()"
   ],
   "metadata": {
    "collapsed": false
   }
  },
  {
   "cell_type": "code",
   "execution_count": null,
   "outputs": [],
   "source": [
    "magn_uu = mat @ magn_u\n",
    "magn_uu = magn_uu.T"
   ],
   "metadata": {
    "collapsed": false
   }
  },
  {
   "cell_type": "code",
   "execution_count": null,
   "outputs": [],
   "source": [
    "magn_uu.size(), magn_uu.min(), magn_uu.max()"
   ],
   "metadata": {
    "collapsed": false
   }
  },
  {
   "cell_type": "code",
   "execution_count": null,
   "outputs": [],
   "source": [
    "from math import log10\n",
    "\n",
    "def mel_filter_bank(fft_size, sample_rate):\n",
    "    # Compute Mel filter bank\n",
    "    num_filters = fft_size // 2\n",
    "    mel_filters = th.zeros(num_filters, fft_size // 2 + 1)\n",
    "    mel_points = th.linspace(0, (2595 * log10(1 + (sample_rate / 2) / 700)) / 2595, num_filters + 2)\n",
    "    hz_points = 700 * (10**(mel_points * 2595 / 700) - 1)\n",
    "\n",
    "    for i in range(1, num_filters + 1):\n",
    "        mel_filters[i - 1, :] = ((th.arange(fft_size // 2 + 1) * sample_rate) / (fft_size - 1) >= hz_points[i - 1]) \\\n",
    "                                & ((th.arange(fft_size // 2 + 1) * sample_rate) / (fft_size - 1) <= hz_points[i + 1])\n",
    "\n",
    "    return mel_filters"
   ],
   "metadata": {
    "collapsed": false
   }
  },
  {
   "cell_type": "code",
   "execution_count": null,
   "outputs": [],
   "source": [
    "mat = mel_filter_bank(1024, 16000)"
   ],
   "metadata": {
    "collapsed": false
   }
  },
  {
   "cell_type": "code",
   "execution_count": null,
   "outputs": [],
   "source": [
    "mat.size()"
   ],
   "metadata": {
    "collapsed": false
   }
  },
  {
   "cell_type": "code",
   "execution_count": null,
   "outputs": [],
   "source": [
    "mat_2 = mat[:, :-1]"
   ],
   "metadata": {
    "collapsed": false
   }
  },
  {
   "cell_type": "code",
   "execution_count": null,
   "outputs": [],
   "source": [
    "magn_s = th.matmul(magn.T, mat_2.T).T"
   ],
   "metadata": {
    "collapsed": false
   }
  },
  {
   "cell_type": "code",
   "execution_count": null,
   "outputs": [],
   "source": [
    "import matplotlib.pyplot as plt"
   ],
   "metadata": {
    "collapsed": false
   }
  },
  {
   "cell_type": "code",
   "execution_count": null,
   "outputs": [],
   "source": [
    "magn_s.min(), magn_s.max()"
   ],
   "metadata": {
    "collapsed": false
   }
  },
  {
   "cell_type": "code",
   "execution_count": null,
   "outputs": [],
   "source": [
    "magn_s = (magn_s - magn_s.min()) / (magn_s.max() - magn_s.min())"
   ],
   "metadata": {
    "collapsed": false
   }
  },
  {
   "cell_type": "code",
   "execution_count": null,
   "outputs": [],
   "source": [
    "magn_u = (magn_s.T @ th.pinverse(mat_2)).T"
   ],
   "metadata": {
    "collapsed": false
   }
  },
  {
   "cell_type": "code",
   "execution_count": null,
   "outputs": [],
   "source": [
    "magn_u.max(), magn_u.min()"
   ],
   "metadata": {
    "collapsed": false
   }
  },
  {
   "cell_type": "code",
   "execution_count": null,
   "outputs": [],
   "source": [],
   "metadata": {
    "collapsed": false
   }
  }
 ],
 "metadata": {
  "kernelspec": {
   "display_name": "Python 3",
   "language": "python",
   "name": "python3"
  },
  "language_info": {
   "codemirror_mode": {
    "name": "ipython",
    "version": 2
   },
   "file_extension": ".py",
   "mimetype": "text/x-python",
   "name": "python",
   "nbconvert_exporter": "python",
   "pygments_lexer": "ipython2",
   "version": "2.7.6"
  }
 },
 "nbformat": 4,
 "nbformat_minor": 0
}
