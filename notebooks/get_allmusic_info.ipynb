{
 "cells": [
  {
   "cell_type": "code",
   "execution_count": null,
   "id": "initial_id",
   "metadata": {
    "collapsed": true
   },
   "outputs": [],
   "source": [
    "import requests\n",
    "from bs4 import BeautifulSoup\n",
    "from urllib.parse import quote\n",
    "from selenium.webdriver import Chrome, ChromeOptions"
   ]
  },
  {
   "cell_type": "code",
   "outputs": [],
   "source": [
    "artist = \"Jorge Ben\"\n",
    "artist = quote(artist.lower())"
   ],
   "metadata": {
    "collapsed": false
   },
   "id": "c0ce7eff513cb0a2",
   "execution_count": null
  },
  {
   "cell_type": "code",
   "outputs": [],
   "source": [
    "chrome_options = ChromeOptions()\n",
    "\n",
    "chrome_options.add_argument(\"--headless\")\n",
    "chrome_options.page_load_strategy = \"none\"\n",
    "\n",
    "driver = Chrome(options=chrome_options)\n",
    "driver.implicitly_wait(5)"
   ],
   "metadata": {
    "collapsed": false
   },
   "id": "571ca83d5db2489c",
   "execution_count": null
  },
  {
   "cell_type": "code",
   "outputs": [],
   "source": [
    "search_url = f\"https://www.allmusic.com/search/all/{artist}\"\n",
    "driver.get(url=search_url)\n",
    "result_page = BeautifulSoup(driver.page_source)"
   ],
   "metadata": {
    "collapsed": false
   },
   "id": "5a279ea0f5cfcd71",
   "execution_count": null
  },
  {
   "cell_type": "code",
   "outputs": [],
   "source": [
    "print(result_page)"
   ],
   "metadata": {
    "collapsed": false
   },
   "id": "c62170d100f436cd",
   "execution_count": null
  },
  {
   "cell_type": "code",
   "outputs": [],
   "source": [
    "print(result_page.find_all(\"div\"))"
   ],
   "metadata": {
    "collapsed": false
   },
   "id": "6abfec5188849d5",
   "execution_count": null
  },
  {
   "cell_type": "code",
   "outputs": [],
   "source": [
    "print(result_page.text)"
   ],
   "metadata": {
    "collapsed": false
   },
   "id": "9fba8ca56c62970c",
   "execution_count": null
  },
  {
   "cell_type": "code",
   "outputs": [],
   "source": [
    "driver.page_source"
   ],
   "metadata": {
    "collapsed": false
   },
   "id": "4e9ec9866f634861",
   "execution_count": null
  },
  {
   "cell_type": "code",
   "outputs": [],
   "source": [],
   "metadata": {
    "collapsed": false
   },
   "id": "32f2a7bdc39f55ee"
  }
 ],
 "metadata": {
  "kernelspec": {
   "display_name": "Python 3",
   "language": "python",
   "name": "python3"
  },
  "language_info": {
   "codemirror_mode": {
    "name": "ipython",
    "version": 2
   },
   "file_extension": ".py",
   "mimetype": "text/x-python",
   "name": "python",
   "nbconvert_exporter": "python",
   "pygments_lexer": "ipython2",
   "version": "2.7.6"
  }
 },
 "nbformat": 4,
 "nbformat_minor": 5
}
