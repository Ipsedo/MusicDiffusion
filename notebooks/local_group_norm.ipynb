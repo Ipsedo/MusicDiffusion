{
 "cells": [
  {
   "cell_type": "code",
   "execution_count": 1,
   "id": "initial_id",
   "metadata": {
    "collapsed": true,
    "ExecuteTime": {
     "end_time": "2023-11-21T19:42:18.073433811Z",
     "start_time": "2023-11-21T19:42:16.728233934Z"
    }
   },
   "outputs": [],
   "source": [
    "import torch as th\n",
    "from torch import nn\n",
    "from torch.nn import functional as th_f"
   ]
  },
  {
   "cell_type": "code",
   "execution_count": 2,
   "outputs": [],
   "source": [
    "kernel_size = 3"
   ],
   "metadata": {
    "collapsed": false,
    "ExecuteTime": {
     "end_time": "2023-11-21T19:42:30.069893295Z",
     "start_time": "2023-11-21T19:42:30.057682511Z"
    }
   },
   "id": "72df2b14ac712b37"
  },
  {
   "cell_type": "code",
   "execution_count": 3,
   "outputs": [],
   "source": [
    "x = th.randn(2, 3, 16, 16)\n",
    "b, c, w, h = x.size()"
   ],
   "metadata": {
    "collapsed": false,
    "ExecuteTime": {
     "end_time": "2023-11-21T19:42:31.735448469Z",
     "start_time": "2023-11-21T19:42:31.727822634Z"
    }
   },
   "id": "9c63cbf7d63ae0c1"
  },
  {
   "cell_type": "code",
   "execution_count": 7,
   "outputs": [],
   "source": [
    "out = th_f.unfold(x, 3, stride=1, padding=1)"
   ],
   "metadata": {
    "collapsed": false,
    "ExecuteTime": {
     "end_time": "2023-11-21T19:43:01.848036238Z",
     "start_time": "2023-11-21T19:43:01.835045013Z"
    }
   },
   "id": "6a32c1c23a8a3355"
  },
  {
   "cell_type": "code",
   "execution_count": 8,
   "outputs": [
    {
     "data": {
      "text/plain": "torch.Size([2, 27, 256])"
     },
     "execution_count": 8,
     "metadata": {},
     "output_type": "execute_result"
    }
   ],
   "source": [
    "out.size()"
   ],
   "metadata": {
    "collapsed": false,
    "ExecuteTime": {
     "end_time": "2023-11-21T19:43:02.601427435Z",
     "start_time": "2023-11-21T19:43:02.597301686Z"
    }
   },
   "id": "bc714a10343b6a1e"
  },
  {
   "cell_type": "code",
   "execution_count": 9,
   "outputs": [
    {
     "data": {
      "text/plain": "256"
     },
     "execution_count": 9,
     "metadata": {},
     "output_type": "execute_result"
    }
   ],
   "source": [
    "16*16"
   ],
   "metadata": {
    "collapsed": false,
    "ExecuteTime": {
     "end_time": "2023-11-21T19:43:03.487772541Z",
     "start_time": "2023-11-21T19:43:03.485157451Z"
    }
   },
   "id": "55d1d2d69f9f68c4"
  },
  {
   "cell_type": "code",
   "execution_count": 19,
   "outputs": [
    {
     "name": "stdout",
     "output_type": "stream",
     "text": [
      "torch.Size([2, 3, 9, 196])\n"
     ]
    }
   ],
   "source": [
    "out_channel = out.view(b, c, kernel_size**2, -1)\n",
    "print(out_channel.size())"
   ],
   "metadata": {
    "collapsed": false,
    "ExecuteTime": {
     "end_time": "2023-11-18T16:35:17.771006567Z",
     "start_time": "2023-11-18T16:35:17.768177550Z"
    }
   },
   "id": "478250d2ba33b9c7"
  },
  {
   "cell_type": "code",
   "execution_count": 11,
   "outputs": [],
   "source": [
    "x_recon = th_f.fold(out, (w, h), kernel_size)"
   ],
   "metadata": {
    "collapsed": false,
    "ExecuteTime": {
     "end_time": "2023-11-18T16:33:54.318654542Z",
     "start_time": "2023-11-18T16:33:54.276486400Z"
    }
   },
   "id": "d6bfb646f6356ceb"
  },
  {
   "cell_type": "code",
   "execution_count": 12,
   "outputs": [
    {
     "data": {
      "text/plain": "torch.Size([2, 3, 16, 16])"
     },
     "execution_count": 12,
     "metadata": {},
     "output_type": "execute_result"
    }
   ],
   "source": [
    "x_recon.size()"
   ],
   "metadata": {
    "collapsed": false,
    "ExecuteTime": {
     "end_time": "2023-11-18T16:33:59.021329416Z",
     "start_time": "2023-11-18T16:33:59.014307581Z"
    }
   },
   "id": "1ccc4a7f0d7e0c12"
  },
  {
   "cell_type": "code",
   "execution_count": 26,
   "outputs": [],
   "source": [
    "from typing import Optional\n",
    "\n",
    "\n",
    "class LocalGroupNorm(nn.Module):\n",
    "    def __init__(self, channels: int, num_groups: int, kernel_size: int, epsilon: float = 1e-5, affine: bool = True) -> None:\n",
    "        super().__init__()\n",
    "        assert channels % num_groups == 0\n",
    "        \n",
    "        self.__channels = channels\n",
    "        self.__num_groups = num_groups\n",
    "        self.__kernel_size = kernel_size\n",
    "        self.__epsilon = epsilon\n",
    "        self.__affine = affine\n",
    "        \n",
    "        self.weight: Optional[nn.Parameter] = nn.Parameter(th.ones(1, channels, 1, 1)) if self.__affine else None\n",
    "        self.bias: Optional[nn.Parameter] = nn.Parameter(th.zeros(1, channels, 1, 1)) if self.__affine else None\n",
    "    \n",
    "    def forward(self, x: th.Tensor) -> th.Tensor:\n",
    "        b, c, h, w = x.size()\n",
    "        \n",
    "        out = th_f.unfold(x, self.__kernel_size, padding=1)\n",
    "        out = out.view(b, self.__num_groups, -1, kernel_size**2, h * w)\n",
    "        \n",
    "        mean = th.mean(out, dim=[2, 3]).view(b, self.__num_groups, 1, h, w)\n",
    "        var = th.var(out, dim=[2, 3], unbiased=True).view(b, self.__num_groups, 1, h, w)\n",
    "        \n",
    "        out = (x.view(b, self.__num_groups, -1, h, w) - mean) / th.sqrt(var + self.__epsilon)\n",
    "        \n",
    "        out = out.view(b, c, h, w)\n",
    "        \n",
    "        if self.__affine:\n",
    "            out = out * self.weight + self.bias\n",
    "        \n",
    "        return out"
   ],
   "metadata": {
    "collapsed": false,
    "ExecuteTime": {
     "end_time": "2023-11-21T19:49:47.107555Z",
     "start_time": "2023-11-21T19:49:47.066648983Z"
    }
   },
   "id": "da05afe1661a7de0"
  },
  {
   "cell_type": "code",
   "execution_count": 27,
   "outputs": [],
   "source": [
    "x = th.randn(2, 4, 16, 16)"
   ],
   "metadata": {
    "collapsed": false,
    "ExecuteTime": {
     "end_time": "2023-11-21T19:49:47.383930782Z",
     "start_time": "2023-11-21T19:49:47.381201885Z"
    }
   },
   "id": "d8f24b0129dd52fd"
  },
  {
   "cell_type": "code",
   "execution_count": 28,
   "outputs": [],
   "source": [
    "lgn = LocalGroupNorm(4, 2, 3)"
   ],
   "metadata": {
    "collapsed": false,
    "ExecuteTime": {
     "end_time": "2023-11-21T19:49:47.639554821Z",
     "start_time": "2023-11-21T19:49:47.636932565Z"
    }
   },
   "id": "1975292385cfa3cb"
  },
  {
   "cell_type": "code",
   "execution_count": 29,
   "outputs": [],
   "source": [
    "out = lgn(x)"
   ],
   "metadata": {
    "collapsed": false,
    "ExecuteTime": {
     "end_time": "2023-11-21T19:49:47.878442283Z",
     "start_time": "2023-11-21T19:49:47.874476949Z"
    }
   },
   "id": "76e8025479f447b4"
  },
  {
   "cell_type": "code",
   "execution_count": 30,
   "outputs": [
    {
     "data": {
      "text/plain": "torch.Size([2, 4, 16, 16])"
     },
     "execution_count": 30,
     "metadata": {},
     "output_type": "execute_result"
    }
   ],
   "source": [
    "out.size()"
   ],
   "metadata": {
    "collapsed": false,
    "ExecuteTime": {
     "end_time": "2023-11-21T19:49:49.123708297Z",
     "start_time": "2023-11-21T19:49:49.109530976Z"
    }
   },
   "id": "2eb65a3c1c906c33"
  },
  {
   "cell_type": "code",
   "execution_count": null,
   "outputs": [],
   "source": [],
   "metadata": {
    "collapsed": false
   },
   "id": "a8b7fa51a5500416"
  }
 ],
 "metadata": {
  "kernelspec": {
   "display_name": "Python 3",
   "language": "python",
   "name": "python3"
  },
  "language_info": {
   "codemirror_mode": {
    "name": "ipython",
    "version": 2
   },
   "file_extension": ".py",
   "mimetype": "text/x-python",
   "name": "python",
   "nbconvert_exporter": "python",
   "pygments_lexer": "ipython2",
   "version": "2.7.6"
  }
 },
 "nbformat": 4,
 "nbformat_minor": 5
}
