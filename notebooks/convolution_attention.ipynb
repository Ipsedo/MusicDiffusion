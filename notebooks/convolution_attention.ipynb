{
 "cells": [
  {
   "cell_type": "code",
   "execution_count": null,
   "id": "initial_id",
   "metadata": {
    "collapsed": true
   },
   "outputs": [],
   "source": [
    "import torch as th\n",
    "from torch import nn\n",
    "from torch.nn.utils.parametrizations import weight_norm\n",
    "\n",
    "from music_diffusion.networks.convolutions import ChannelProjBlock\n",
    "from music_diffusion.networks.utils import View, Permute"
   ]
  },
  {
   "cell_type": "code",
   "outputs": [],
   "source": [
    "x = th.randn(1, 2, 32, 32)"
   ],
   "metadata": {
    "collapsed": false
   },
   "id": "6f7a4cdd54bb6dfd",
   "execution_count": null
  },
  {
   "cell_type": "code",
   "outputs": [],
   "source": [
    "unfold = nn.Unfold(kernel_size=3, stride=1, padding=1)"
   ],
   "metadata": {
    "collapsed": false
   },
   "id": "66ca4702f0f0d94c",
   "execution_count": null
  },
  {
   "cell_type": "code",
   "outputs": [],
   "source": [
    "out = unfold(x).view(1, 2, 9, 32, 32)[:, :, 4, :, :]"
   ],
   "metadata": {
    "collapsed": false
   },
   "id": "455e0c200b0fcc3f",
   "execution_count": null
  },
  {
   "cell_type": "code",
   "outputs": [],
   "source": [
    "out.size()"
   ],
   "metadata": {
    "collapsed": false
   },
   "id": "665fd4c14c04f85",
   "execution_count": null
  },
  {
   "cell_type": "code",
   "outputs": [],
   "source": [
    "out"
   ],
   "metadata": {
    "collapsed": false
   },
   "id": "16136d8d32dd1a41",
   "execution_count": null
  },
  {
   "cell_type": "code",
   "outputs": [],
   "source": [
    "x"
   ],
   "metadata": {
    "collapsed": false
   },
   "id": "b3814b529f013e08",
   "execution_count": null
  },
  {
   "cell_type": "code",
   "outputs": [],
   "source": [
    "class BoxCrossAttention(nn.Module):\n",
    "    def __init__(self, channels: int, tau_hidden_dim: int, kv_dim: int) -> None:\n",
    "        super().__init__()\n",
    "        \n",
    "        self.__kernel_size = 3\n",
    "        \n",
    "        self.__query_conv = nn.Sequential(\n",
    "            ChannelProjBlock(channels, channels),\n",
    "            nn.Unfold(kernel_size=self.__kernel_size, stride=1, padding=1),\n",
    "            View(channels, self.__kernel_size**2, -1),\n",
    "            Permute(0, 3, 2, 1),\n",
    "            nn.Flatten(0, 1)\n",
    "        )\n",
    "\n",
    "        self.__cross_att = nn.MultiheadAttention(\n",
    "            channels,\n",
    "            1,\n",
    "            kdim=kv_dim,\n",
    "            vdim=kv_dim,\n",
    "            batch_first=True,\n",
    "        )\n",
    "\n",
    "        self.__to_key_value = nn.Sequential(\n",
    "            weight_norm(nn.Linear(tau_hidden_dim, kv_dim * 2)),\n",
    "            nn.Mish(),\n",
    "            weight_norm(nn.Linear(kv_dim * 2, kv_dim * 2)),\n",
    "        )\n",
    "    \n",
    "    def forward(self, x: th.Tensor, y: th.Tensor) -> th.Tensor:\n",
    "        b, c, w, h = x.size()\n",
    "        \n",
    "        proj_query = self.__query_conv(x)\n",
    "        \n",
    "        proj_key, proj_value = (\n",
    "            self.__to_key_value(y)\n",
    "            .unsqueeze(1)\n",
    "            .unsqueeze(1)\n",
    "            .repeat(1, w * h, 1, 1)\n",
    "            .flatten(0, 1)\n",
    "            .chunk(dim=-1, chunks=2)\n",
    "        )\n",
    "        \n",
    "        out = (\n",
    "            self.__cross_att(proj_query, proj_key, proj_value)[0]\n",
    "            .view(b, w * h, self.__kernel_size**2, c)\n",
    "            .permute(0, 3, 2, 1)\n",
    "            .sum(dim=2)\n",
    "            .view(b, c, w, h)\n",
    "        )\n",
    "        \n",
    "        return out"
   ],
   "metadata": {
    "collapsed": false
   },
   "id": "69f2723cc3888bed",
   "execution_count": null
  },
  {
   "cell_type": "code",
   "outputs": [],
   "source": [
    "box_cross_att = BoxCrossAttention(2, 16, 4)"
   ],
   "metadata": {
    "collapsed": false
   },
   "id": "b1546ce26cf550a3",
   "execution_count": null
  },
  {
   "cell_type": "code",
   "outputs": [],
   "source": [
    "y = th.randn(1, 16)"
   ],
   "metadata": {
    "collapsed": false
   },
   "id": "f4ef97ee505aacc2",
   "execution_count": null
  },
  {
   "cell_type": "code",
   "outputs": [],
   "source": [
    "box_cross_att(x, y)"
   ],
   "metadata": {
    "collapsed": false
   },
   "id": "967adb51ad0be3f7",
   "execution_count": null
  },
  {
   "cell_type": "code",
   "outputs": [],
   "source": [],
   "metadata": {
    "collapsed": false
   },
   "id": "2ed723a951e59480"
  }
 ],
 "metadata": {
  "kernelspec": {
   "display_name": "Python 3",
   "language": "python",
   "name": "python3"
  },
  "language_info": {
   "codemirror_mode": {
    "name": "ipython",
    "version": 2
   },
   "file_extension": ".py",
   "mimetype": "text/x-python",
   "name": "python",
   "nbconvert_exporter": "python",
   "pygments_lexer": "ipython2",
   "version": "2.7.6"
  }
 },
 "nbformat": 4,
 "nbformat_minor": 5
}
