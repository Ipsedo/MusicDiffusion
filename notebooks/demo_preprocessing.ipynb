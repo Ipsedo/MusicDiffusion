{
 "cells": [
  {
   "cell_type": "code",
   "execution_count": null,
   "metadata": {},
   "outputs": [],
   "source": [
    "import torch as th\n",
    "from torch.nn import functional as th_f\n",
    "import torchaudio as th_audio\n",
    "from torchaudio import functional as th_audio_f\n",
    "import matplotlib.pyplot as plt\n",
    "\n",
    "from music_diffusion.data import simpson"
   ]
  },
  {
   "cell_type": "markdown",
   "metadata": {},
   "source": [
    "# Analogique vs. numérique"
   ]
  },
  {
   "cell_type": "markdown",
   "metadata": {},
   "source": [
    "<img src=\"https://upload.wikimedia.org/wikipedia/commons/thumb/b/bf/Pcm.svg/1280px-Pcm.svg.png\" width=\"40%\" height=\"40%\"/>\n",
    "\n",
    "- Sample rate (taux d'échantillonage) : fréquence à laquelle le signal analogique est mesuré / enregistré.\n",
    "- Bit depth (quantification) : le nombre de valeurs possibles que peut prendre le signal sur un échantillon. (ici $2^4 = 16$ valeurs possible, 4-bits).\n",
    "\n",
    "On ne peut pas \"zoomer\" à l'infini (espace mémoire) et on ne veut pas pour autant détruire le signal.\n",
    "\n",
    "Le CD : \n",
    "- échantilloné à 44100Hz donc avec une fréquence maximale de 22050Hz, registre humain 20Hz (grave) à ~20000Hz (aigüe) : perfect\n",
    "- usuellement quantifié avec 16 ou 32 bits : $2^{16} = 65536$ groupes possibles pour un signal entre [-1; 1]\n"
   ]
  },
  {
   "cell_type": "markdown",
   "metadata": {},
   "source": [
    "# Signal / Composition de fréquences"
   ]
  },
  {
   "cell_type": "code",
   "execution_count": null,
   "metadata": {},
   "outputs": [],
   "source": [
    "duree = 5  # seconds\n",
    "sample_rate = 44100  # 44100 Hz"
   ]
  },
  {
   "cell_type": "code",
   "execution_count": null,
   "metadata": {},
   "outputs": [],
   "source": [
    "ticks = th.linspace(0, duree, steps=duree * sample_rate)\n",
    "print(ticks.size(), duree * sample_rate)\n",
    "print(ticks.min(), ticks.max())"
   ]
  },
  {
   "cell_type": "code",
   "execution_count": null,
   "metadata": {},
   "outputs": [],
   "source": [
    "la_440 = th.cos(440 * 2 * th.pi * ticks)\n",
    "print(la_440.size(), la_440.min(), la_440.max())"
   ]
  },
  {
   "cell_type": "code",
   "execution_count": null,
   "metadata": {},
   "outputs": [],
   "source": [
    "time_limit_seconds = 1. / 100.\n",
    "time_limit_ticks = int(sample_rate * time_limit_seconds)"
   ]
  },
  {
   "cell_type": "code",
   "execution_count": null,
   "metadata": {},
   "outputs": [],
   "source": [
    "plt.plot(ticks[:time_limit_ticks], la_440[:time_limit_ticks])"
   ]
  },
  {
   "cell_type": "code",
   "execution_count": null,
   "metadata": {},
   "outputs": [],
   "source": [
    "th_audio.save(\"la_440.wav\", la_440[None, :], sample_rate)"
   ]
  },
  {
   "cell_type": "code",
   "execution_count": null,
   "metadata": {},
   "outputs": [],
   "source": [
    "la_880 = th.cos(880 * 2 * th.pi * ticks)"
   ]
  },
  {
   "cell_type": "code",
   "execution_count": null,
   "metadata": {},
   "outputs": [],
   "source": [
    "plt.plot(ticks[:time_limit_ticks], la_440[:time_limit_ticks], color=\"r\")\n",
    "plt.plot(ticks[:time_limit_ticks], la_880[:time_limit_ticks], color=\"g\")"
   ]
  },
  {
   "cell_type": "code",
   "execution_count": null,
   "metadata": {},
   "outputs": [],
   "source": [
    "th_audio.save(\"la_880.wav\", la_880[None, :], sample_rate)"
   ]
  },
  {
   "cell_type": "code",
   "execution_count": null,
   "metadata": {},
   "outputs": [],
   "source": [
    "la_440_la_880 = la_440 + la_880"
   ]
  },
  {
   "cell_type": "code",
   "execution_count": null,
   "metadata": {},
   "outputs": [],
   "source": [
    "plt.plot(ticks[:time_limit_ticks], la_440_la_880[:time_limit_ticks])"
   ]
  },
  {
   "cell_type": "code",
   "execution_count": null,
   "metadata": {},
   "outputs": [],
   "source": [
    "th_audio.save(\"la_440_la_880.wav\", la_440_la_880[None, :], sample_rate)"
   ]
  },
  {
   "cell_type": "code",
   "execution_count": null,
   "metadata": {},
   "outputs": [],
   "source": [
    "do_3 = th.cos(261.6 * 2. * th.pi * ticks)\n",
    "re_diese_3 = th.cos(311.1 * 2 * th.pi * ticks)\n",
    "mi_3 = th.cos(329.6 * 2. * th.pi * ticks)\n",
    "sol_3 = th.cos(392.0 * 2. * th.pi * ticks)\n",
    "do_4 = th.cos(523.3 * 2. * th.pi * ticks)"
   ]
  },
  {
   "cell_type": "code",
   "execution_count": null,
   "metadata": {},
   "outputs": [],
   "source": [
    "majeur = do_3 + mi_3 + sol_3 + do_4\n",
    "mineur = do_3 + re_diese_3 + sol_3 + do_4\n",
    "\n",
    "th_audio.save(\"majeur.wav\", majeur[None, :], sample_rate)\n",
    "th_audio.save(\"mineur.wav\", mineur[None, :], sample_rate)"
   ]
  },
  {
   "cell_type": "markdown",
   "metadata": {},
   "source": [
    "# Avec un vrai audio"
   ]
  },
  {
   "cell_type": "code",
   "execution_count": null,
   "metadata": {},
   "outputs": [],
   "source": [
    "raw_audio, sample_rate = th_audio.load(\"./resources/mystere.flac\")"
   ]
  },
  {
   "cell_type": "code",
   "execution_count": null,
   "metadata": {},
   "outputs": [],
   "source": [
    "# stereo\n",
    "print(raw_audio.size())\n",
    "print(raw_audio.dtype)\n",
    "print(raw_audio.min(), raw_audio.max())"
   ]
  },
  {
   "cell_type": "code",
   "execution_count": null,
   "metadata": {},
   "outputs": [],
   "source": [
    "print(f\"Sample rate {sample_rate}\")"
   ]
  },
  {
   "cell_type": "code",
   "execution_count": null,
   "metadata": {},
   "outputs": [],
   "source": [
    "print(f\"Durée : {raw_audio.size(1) / sample_rate / 60.} minutes\")"
   ]
  },
  {
   "cell_type": "code",
   "execution_count": null,
   "metadata": {},
   "outputs": [],
   "source": [
    "raw_audio_mono = raw_audio.mean(dim=0)"
   ]
  },
  {
   "cell_type": "code",
   "execution_count": null,
   "metadata": {},
   "outputs": [],
   "source": [
    "plt.plot(ticks[:100], raw_audio_mono[400:500])"
   ]
  },
  {
   "cell_type": "code",
   "execution_count": null,
   "metadata": {},
   "outputs": [],
   "source": [
    "plt.plot(ticks[:1000], raw_audio_mono[400:1400])"
   ]
  },
  {
   "cell_type": "markdown",
   "metadata": {},
   "source": [
    "Pas très représentatif de la musique (notes, timbres, etc.) ?\n",
    "\n",
    "Solution : passer dans le domaine des fréquences avec une transformée de Fourier par exemple :\n",
    "\n",
    "![](https://www.nti-audio.com/portals/0/pic/news/FFT-Time-Frequency-View-540.png)\n",
    "\n",
    "Un exemple de signal dans le domaine des fréquences (spectrogramme) :\n",
    "\n",
    "![](https://www.numerical-tours.com/matlab/audio_1_processing/index_09.png)\n",
    "\n",
    "Nous allons utiliser la STFT (Short Time Fourier Transform) :\n",
    "\n",
    "![](https://www.researchgate.net/publication/346243843/figure/fig1/AS:961807523000322@1606324191138/Short-time-Fourier-transform-STFT-overview.png)"
   ]
  },
  {
   "cell_type": "code",
   "execution_count": null,
   "metadata": {},
   "outputs": [],
   "source": [
    "n_per_seg = 1024 # Donc 512 \"paquets\" de fréquences\n",
    "stride = 256 # On décale la fenêtre de la STFT de 256 ticks (à 44100 Hz !)"
   ]
  },
  {
   "cell_type": "code",
   "execution_count": null,
   "metadata": {},
   "outputs": [],
   "source": [
    "complex_values = th_audio_f.spectrogram(\n",
    "        raw_audio_mono,\n",
    "        pad=0,\n",
    "        window=th.hann_window(n_per_seg),\n",
    "        n_fft=n_per_seg,\n",
    "        hop_length=stride,\n",
    "        win_length=n_per_seg,\n",
    "        power=None,\n",
    "        normalized=True,\n",
    "    )"
   ]
  },
  {
   "cell_type": "code",
   "execution_count": null,
   "metadata": {},
   "outputs": [],
   "source": [
    "print(complex_values.size())"
   ]
  },
  {
   "cell_type": "code",
   "execution_count": null,
   "metadata": {},
   "outputs": [],
   "source": [
    "print(complex_values.dtype)"
   ]
  },
  {
   "cell_type": "markdown",
   "metadata": {},
   "source": [
    "Le dernier paquet de fréquence (la 513e) ne sert à rien : en effet sa fréquence oscille plus vite que le taux d'échantillonage (44100 Hz)"
   ]
  },
  {
   "cell_type": "code",
   "execution_count": null,
   "metadata": {},
   "outputs": [],
   "source": [
    "complex_values = complex_values[:-1, :]"
   ]
  },
  {
   "cell_type": "code",
   "execution_count": null,
   "metadata": {},
   "outputs": [],
   "source": [
    "print(complex_values.size())"
   ]
  },
  {
   "cell_type": "code",
   "execution_count": null,
   "metadata": {},
   "outputs": [],
   "source": [
    "offset = 10000"
   ]
  },
  {
   "cell_type": "code",
   "execution_count": null,
   "metadata": {},
   "outputs": [],
   "source": [
    "plt.matshow(th.real(complex_values[:, offset:offset+512]), cmap=\"plasma\")\n",
    "plt.matshow(th.imag(complex_values[:, offset:offset+512]), cmap=\"plasma\")"
   ]
  },
  {
   "cell_type": "markdown",
   "metadata": {},
   "source": [
    "Toujours pas très représentatif...\n",
    "\n",
    "Pourquoi ne pas utiliser la représentation exponetielle des complexes ?\n",
    "\n",
    "![](https://mathonweb.com/help_ebook/complex/complex24.gif)"
   ]
  },
  {
   "cell_type": "code",
   "execution_count": null,
   "metadata": {},
   "outputs": [],
   "source": [
    "magnitude = th.abs(complex_values)\n",
    "phase = th.angle(complex_values)"
   ]
  },
  {
   "cell_type": "markdown",
   "metadata": {},
   "source": [
    "![](https://homepages.inf.ed.ac.uk/rbf/CVonline/LOCAL_COPIES/OWENS/LECT4/img21.gif)"
   ]
  },
  {
   "cell_type": "code",
   "execution_count": null,
   "metadata": {},
   "outputs": [],
   "source": [
    "plt.matshow(magnitude[:, offset:offset+512], cmap=\"plasma\")"
   ]
  },
  {
   "cell_type": "code",
   "execution_count": null,
   "metadata": {},
   "outputs": [],
   "source": [
    "plt.matshow(phase[:, offset:offset+512], cmap=\"plasma\")"
   ]
  },
  {
   "cell_type": "markdown",
   "metadata": {},
   "source": [
    "La phase ressemble plus à du bruit qu'autre chose. Essayons de comprendre pourquoi :"
   ]
  },
  {
   "cell_type": "markdown",
   "metadata": {},
   "source": [
    "## 1er effet indésirable : le décalage"
   ]
  },
  {
   "cell_type": "code",
   "execution_count": null,
   "metadata": {},
   "outputs": [],
   "source": [
    "shift = 10\n",
    "sinusoide_441_hz = th.cos(441 * 2. * th.pi * ticks)\n",
    "sinusoide_441_hz_shifted = th.cos(441 * 2. * th.pi * ticks - th.pi / 4.)\n",
    "\n",
    "stft_window_100 = 100"
   ]
  },
  {
   "cell_type": "code",
   "execution_count": null,
   "metadata": {},
   "outputs": [],
   "source": [
    "plt.plot(ticks[:time_limit_ticks], sinusoide_441_hz[:time_limit_ticks], color=\"r\")\n",
    "plt.plot(ticks[:time_limit_ticks], sinusoide_441_hz_shifted[:time_limit_ticks], color=\"g\")\n",
    "\n",
    "curr_window_start = 0\n",
    "while curr_window_start < time_limit_ticks:\n",
    "    plt.axvline(x=ticks[curr_window_start], color=\"cyan\")\n",
    "    curr_window_start += stft_window_100"
   ]
  },
  {
   "cell_type": "markdown",
   "metadata": {},
   "source": [
    "Si le décalage est constant sur toute la musique, ça passe encore !\n",
    "\n",
    "mais..."
   ]
  },
  {
   "cell_type": "markdown",
   "metadata": {},
   "source": [
    "## 2e effet indésirable : le décalage du décalage\n",
    "\n",
    "Car oui, le début de la fenêtre de STFT et une fréquence peuvent être décalés."
   ]
  },
  {
   "cell_type": "code",
   "execution_count": null,
   "metadata": {},
   "outputs": [],
   "source": [
    "sinusoid_500_hz_shifted = th.cos(500. * 2. * th.pi * ticks - th.pi / 4.)"
   ]
  },
  {
   "cell_type": "code",
   "execution_count": null,
   "metadata": {},
   "outputs": [],
   "source": [
    "plt.plot(ticks[:time_limit_ticks], sinusoid_500_hz_shifted[:time_limit_ticks], color=\"r\")\n",
    "curr_window_start = 0\n",
    "while curr_window_start < time_limit_ticks:\n",
    "    plt.axvline(x=ticks[curr_window_start], color=\"cyan\")\n",
    "    curr_window_start += stft_window_100"
   ]
  },
  {
   "cell_type": "markdown",
   "metadata": {},
   "source": [
    "## Phase instantanée"
   ]
  },
  {
   "cell_type": "markdown",
   "metadata": {},
   "source": [
    "Approches retenue : GANSynth, le GAN de magenta qui synthtise des notes / timbres d'instruments, ex: un do de trompette.\n",
    "\n",
    "Les auteurs du papier proposent une transformation pour rendre la phase plus \"facile\". Par plus facile j'entends de faire apparaitre des motifs qui seront apprenables par un algorithme de génération d'images.\n",
    "\n",
    "![](https://media.arxiv-vanity.com/render-output/6223267/GANSynth_figs_motivation.png)\n",
    "\n",
    "Plus qu'à coder la transformation !"
   ]
  },
  {
   "cell_type": "markdown",
   "metadata": {},
   "source": [
    "### 1. Unwrap\n",
    "\n",
    "Des gens l'ont déjà fait et j'avais la flemme de chercher :p"
   ]
  },
  {
   "cell_type": "code",
   "execution_count": null,
   "metadata": {},
   "outputs": [],
   "source": [
    "def diff(x: th.Tensor) -> th.Tensor:\n",
    "    return th_f.pad(x[:, 1:] - x[:, :-1], (1, 0, 0, 0), \"constant\", 0)\n",
    "\n",
    "\n",
    "# https://discuss.pytorch.org/t/np-unwrap-function-in-pytorch/34688/2\n",
    "def unwrap(phi: th.Tensor) -> th.Tensor:\n",
    "    d_phi = diff(phi)\n",
    "    d_phi_m = ((d_phi + th.pi) % (2 * th.pi)) - th.pi\n",
    "    d_phi_m[(d_phi_m == -th.pi) & (d_phi > 0)] = th.pi\n",
    "    phi_adj = d_phi_m - d_phi\n",
    "    phi_adj[d_phi.abs() < th.pi] = 0\n",
    "    return phi + phi_adj.cumsum(1)"
   ]
  },
  {
   "cell_type": "code",
   "execution_count": null,
   "metadata": {},
   "outputs": [],
   "source": [
    "unwrapped_phase = unwrap(phase)"
   ]
  },
  {
   "cell_type": "code",
   "execution_count": null,
   "metadata": {},
   "outputs": [],
   "source": [
    "plt.matshow(unwrapped_phase[:, :512], cmap=\"plasma\")"
   ]
  },
  {
   "cell_type": "code",
   "execution_count": null,
   "metadata": {},
   "outputs": [],
   "source": [
    "plt.matshow(unwrapped_phase[:, offset:offset+512], cmap=\"plasma\")"
   ]
  },
  {
   "cell_type": "markdown",
   "metadata": {},
   "source": [
    "### 2. \"Taux d'accroissement\" / \"dérivée\" / aka phase instantanée\n",
    "\n",
    "L'idée : représenter des combien (en temps) la phase d'une fréquence se décale par rapport au début d'une fenêtre de STFT.\n",
    "\n",
    "C'est parti pour calculer un gradient !"
   ]
  },
  {
   "cell_type": "code",
   "execution_count": null,
   "metadata": {},
   "outputs": [],
   "source": [
    "# première phase à 0 pour chaque fréquence\n",
    "derived_phase_tmp = th_f.pad(unwrapped_phase, (1, 0, 0, 0), \"constant\", 0.0)\n",
    "# le delta est de 1 tick, on applique le gradient sur l'axe du temps\n",
    "derived_phase = th.gradient(derived_phase_tmp, dim=1, spacing=1.0, edge_order=1)[0]"
   ]
  },
  {
   "cell_type": "code",
   "execution_count": null,
   "metadata": {},
   "outputs": [],
   "source": [
    "magnitude = th_f.pad(magnitude, (1, 0, 0, 0), \"constant\", 0.0)"
   ]
  },
  {
   "cell_type": "code",
   "execution_count": null,
   "metadata": {},
   "outputs": [],
   "source": [
    "plt.matshow(derived_phase[:, :512], cmap=\"plasma\")"
   ]
  },
  {
   "cell_type": "code",
   "execution_count": null,
   "metadata": {},
   "outputs": [],
   "source": [
    "plt.matshow(derived_phase[:, offset:offset+512], cmap=\"plasma\")"
   ]
  },
  {
   "cell_type": "markdown",
   "metadata": {},
   "source": [
    "## Dernière étape : echelle de bark sur la magnitude\n",
    "\n",
    "L'humain perçoit / discerne mieux les fréquences dans le registre medium (environ < 4000 Hz), traduisons le dans les magnitudes.\n",
    "L'idée : partir sur un modèle psychoacoustique type echelle de Bark ou de Mel pour mieux faire ressortir les fréquences aigües.\n",
    "\n",
    "Ici, echelle de Bark :\n",
    "\n",
    "![](https://upload.wikimedia.org/wikipedia/commons/2/20/Bark_scale.png)"
   ]
  },
  {
   "cell_type": "code",
   "execution_count": null,
   "metadata": {},
   "outputs": [],
   "source": [
    "min_hz = 20.0\n",
    "max_hz = 44100 // 2\n",
    "\n",
    "lin_space: th.Tensor = (\n",
    "    th.linspace(min_hz, max_hz, magnitude.size(0)) / 600.0\n",
    ")\n",
    "bark_scale = 6.0 * th.arcsinh(lin_space)[:, None]\n",
    "bark_scale = bark_scale / bark_scale[-1, :]"
   ]
  },
  {
   "cell_type": "code",
   "execution_count": null,
   "metadata": {},
   "outputs": [],
   "source": [
    "scaled_magnitude = magnitude * bark_scale"
   ]
  },
  {
   "cell_type": "code",
   "execution_count": null,
   "metadata": {},
   "outputs": [],
   "source": [
    "plt.matshow(scaled_magnitude[:, offset:offset+512], cmap=\"plasma\")"
   ]
  },
  {
   "cell_type": "markdown",
   "metadata": {},
   "source": [
    "## Images à 2 couleurs\n",
    "\n",
    "La magnitude et la phase !"
   ]
  },
  {
   "cell_type": "code",
   "execution_count": null,
   "metadata": {},
   "outputs": [],
   "source": [
    "fig, (magn_ax, phase_ax) = plt.subplots(1, 2)\n",
    "\n",
    "magn_ax.matshow(scaled_magnitude[:, offset:offset + 512], cmap=\"plasma\")\n",
    "magn_ax.set_title(f\"Magnitude\")\n",
    "\n",
    "# Plot phase\n",
    "\n",
    "phase_ax.matshow(derived_phase[:, offset:offset + 512], cmap=\"plasma\")\n",
    "phase_ax.set_title(f\"Phase\")\n",
    "\n",
    "fig.savefig(f\"magn_phase.png\")\n",
    "\n",
    "plt.show()\n",
    "\n",
    "plt.close()"
   ]
  },
  {
   "cell_type": "markdown",
   "metadata": {},
   "source": [
    "## Transformation inverse\n",
    "\n",
    "Une image ça ne s'écoute pas !"
   ]
  },
  {
   "cell_type": "code",
   "execution_count": null,
   "metadata": {},
   "outputs": [],
   "source": [
    "# inverse de la mise à l'échelle Bark\n",
    "descaled_magnitude = scaled_magnitude / bark_scale\n",
    "\n",
    "# inverse du gradient\n",
    "reconstructed_phase = simpson(th.zeros(derived_phase.size()[0], 1), derived_phase, 1, 1.0)\n",
    "\n",
    "# inverse de l'unwrap\n",
    "reconstructed_phase = reconstructed_phase % (2 * th.pi)\n",
    "\n",
    "# passage partie réelle et imaginaire\n",
    "real = descaled_magnitude * th.cos(reconstructed_phase)\n",
    "imaginary = descaled_magnitude * th.sin(reconstructed_phase)\n",
    "\n",
    "# ajout de la fréquence Nyquist\n",
    "real_res = th_f.pad(real, (0, 0, 0, 1), \"constant\", 0)\n",
    "imaginary_res = th_f.pad(imaginary, (0, 0, 0, 1), \"constant\", 0)\n",
    "\n",
    "# création du tensor de complexes\n",
    "z = real_res + imaginary_res * 1j\n",
    "\n",
    "# STFT inverse\n",
    "raw_audio = th_audio_f.inverse_spectrogram(\n",
    "    z,\n",
    "    length=None,\n",
    "    pad=0,\n",
    "    window=th.hann_window(n_per_seg),\n",
    "    n_fft=n_per_seg,\n",
    "    hop_length=stride,\n",
    "    win_length=n_per_seg,\n",
    "    normalized=True,\n",
    ")\n",
    "\n",
    "# sauvegarde de l'audio\n",
    "th_audio.save(\"reconstructed.wav\", raw_audio[None, :], sample_rate)"
   ]
  },
  {
   "cell_type": "code",
   "execution_count": null,
   "metadata": {},
   "outputs": [],
   "source": []
  }
 ],
 "metadata": {
  "kernelspec": {
   "display_name": "Python 3 (ipykernel)",
   "language": "python",
   "name": "python3"
  },
  "language_info": {
   "codemirror_mode": {
    "name": "ipython",
    "version": 3
   },
   "file_extension": ".py",
   "mimetype": "text/x-python",
   "name": "python",
   "nbconvert_exporter": "python",
   "pygments_lexer": "ipython3",
   "version": "3.11.3"
  }
 },
 "nbformat": 4,
 "nbformat_minor": 1
}
